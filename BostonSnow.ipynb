{
 "cells": [
  {
   "cell_type": "code",
   "execution_count": 12,
   "metadata": {
    "collapsed": true
   },
   "outputs": [],
   "source": [
    "import pandas\n",
    "\n",
    "data = pandas.read_csv(\"snow_records.csv\", sep=',', header=0)"
   ]
  },
  {
   "cell_type": "code",
   "execution_count": 17,
   "outputs": [
    {
     "name": "stdout",
     "output_type": "stream",
     "text": [
      "0      25.0\n",
      "1      17.5\n",
      "2      44.1\n",
      "3      42.0\n",
      "4      72.9\n",
      "       ... \n",
      "116    36.1\n",
      "117    47.6\n",
      "118    59.9\n",
      "119    27.4\n",
      "120    15.8\n",
      "Name: Total, Length: 121, dtype: object\n"
     ]
    }
   ],
   "source": [
    "print(data[\"Total\"])"
   ],
   "metadata": {
    "collapsed": false,
    "pycharm": {
     "name": "#%%\n"
    }
   }
  },
  {
   "cell_type": "code",
   "execution_count": 63,
   "outputs": [
    {
     "name": "stderr",
     "output_type": "stream",
     "text": [
      "<ipython-input-63-1bae945a0507>:11: UserWarning: Matplotlib is currently using module://ipykernel.pylab.backend_inline, which is a non-GUI backend, so cannot show the figure.\n",
      "  fig.show()\n"
     ]
    },
    {
     "data": {
      "text/plain": "<Figure size 432x288 with 1 Axes>",
      "image/png": "[encoded data removed]"
     },
     "metadata": {},
     "output_type": "display_data"
    }
   ],
   "source": [
    "import matplotlib.pyplot as plt\n",
    "\n",
    "#data[\"Total\"] = data.Total.astype(float, errors=\"ignore\")\n",
    "#data.dtypes\n",
    "\n",
    "fig = plt.figure(facecolor=\"white\")\n",
    "axes = plt.axes()\n",
    "pandas.to_numeric(data[\"Total\"], errors=\"coerce\").hist(bins=range(0, 125, 5))\n",
    "axes.set_xlabel(\"Total seasonal snow (in)\")\n",
    "axes.set_ylabel(\"Number of seasons\")\n",
    "fig.show()\n",
    "fig.savefig(\"/tmp/boston_snow.png\")\n"
   ],
   "metadata": {
    "collapsed": false,
    "pycharm": {
     "name": "#%%\n"
    }
   }
  }
 ],
 "metadata": {
  "kernelspec": {
   "display_name": "Python 3",
   "language": "python",
   "name": "python3"
  },
  "language_info": {
   "codemirror_mode": {
    "name": "ipython",
    "version": 2
   },
   "file_extension": ".py",
   "mimetype": "text/x-python",
   "name": "python",
   "nbconvert_exporter": "python",
   "pygments_lexer": "ipython2",
   "version": "2.7.6"
  }
 },
 "nbformat": 4,
 "nbformat_minor": 0
}