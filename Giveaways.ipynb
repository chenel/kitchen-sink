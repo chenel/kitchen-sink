{
 "cells": [
  {
   "cell_type": "code",
   "execution_count": 26,
   "outputs": [],
   "source": [
    "NAMES = {\n",
    "    \"NRAU\": \"Noor Raheel Al Ukaily\",\n",
    "    \"LQT\":  \"Lam Quoc Truong\",\n",
    "    \"DE\":   \"David Eckes\",\n",
    "    \"JS\":   \"Janet Small\",\n",
    "    \"HAB\":  \"HA Baker\",\n",
    "    \"DB\":   \"Dêv Brâhmbhætt\",\n",
    "    \"AP\":   \"Ann Puzio\",\n",
    "    \"KR\":   \"Karishma Raval\",\n",
    "    \"ID\":   \"Isabel Delacruz\",\n",
    "    \"NP\":   \"Nansy Pradhan\",\n",
    "    \"SN\":   \"Sue Naren\",\n",
    "    \"AUMD\": \"Adam Unka Mush David\",\n",
    "    \"DDB\":  \"Dimple Doshi Bhakri\",\n",
    "    \"DT\":   \"Dan Tillinghast\",\n",
    "    \"ESS\":  \"Eileen Suleski Scolastico\",\n",
    "}\n",
    "\n",
    "INTERESTS = {\n",
    "    \"games\": [ \"NRAU\", ],\n",
    "    \"chess\": [ \"DT\", \"ESS\", \"KR\", \"AP\", \"ID\", \"DB\", \"NP\", \"SN\", \"LQT\", \"JS\", \"HAB\" ],\n",
    "    \"bowls\": [ \"DDB\", ],\n",
    "    \"susan\": [ \"NP\", \"AUMD\", \"LQT\" ],\n",
    "    \"vases\": [],\n",
    "    \"candles-hanging\": [ \"KR\", \"DB\", \"DE\" ],\n",
    "    \"candles-butterfly\": [ \"DB\", \"DE\", ],\n",
    "    \"candles-etc\": [ \"DB\", ],\n",
    "}"
   ],
   "metadata": {
    "collapsed": false,
    "pycharm": {
     "name": "#%%\n"
    }
   }
  },
  {
   "cell_type": "code",
   "execution_count": 27,
   "outputs": [
    {
     "name": "stdout",
     "output_type": "stream",
     "text": [
      "testing (100000 throws)...\n",
      "results are:\n",
      "for item: games\n",
      "   NRAU --> 100000 (1.00)\n",
      "for item: chess\n",
      "   DT --> 9235 (0.09)\n",
      "   ESS --> 9057 (0.09)\n",
      "   KR --> 9035 (0.09)\n",
      "   AP --> 9052 (0.09)\n",
      "   ID --> 9078 (0.09)\n",
      "   DB --> 9035 (0.09)\n",
      "   NP --> 9213 (0.09)\n",
      "   SN --> 8956 (0.09)\n",
      "   LQT --> 9026 (0.09)\n",
      "   JS --> 9189 (0.09)\n",
      "   HAB --> 9124 (0.09)\n",
      "for item: bowls\n",
      "   DDB --> 100000 (1.00)\n",
      "for item: susan\n",
      "   NP --> 33183 (0.33)\n",
      "   AUMD --> 33498 (0.33)\n",
      "   LQT --> 33319 (0.33)\n",
      "for item: candles-hanging\n",
      "   KR --> 33289 (0.33)\n",
      "   DB --> 33620 (0.34)\n",
      "   DE --> 33091 (0.33)\n",
      "for item: candles-butterfly\n",
      "   DB --> 49903 (0.50)\n",
      "   DE --> 50097 (0.50)\n",
      "for item: candles-etc\n",
      "   DB --> 100000 (1.00)\n"
     ]
    }
   ],
   "source": [
    "import random\n",
    "random.seed(20210117)\n",
    "\n",
    "choices = dict.fromkeys(INTERESTS, [])\n",
    "\n",
    "throws = 100000\n",
    "print(\"testing (%d throws)...\" % throws)\n",
    "for item, folks in INTERESTS.items():\n",
    "    if len(folks) == 0:\n",
    "        continue\n",
    "    choices[item] = random.choices(folks, k=throws)\n",
    "\n",
    "print(\"results are:\")\n",
    "for item, chs in choices.items():\n",
    "    if len(chs) == 0:\n",
    "        continue\n",
    "\n",
    "    print(\"for item:\", item)\n",
    "#    print(\"   \", chs[:15])\n",
    "    total = len(chs)\n",
    "    accum = 0\n",
    "    for f in INTERESTS[item]:\n",
    "        count = chs.count(f)\n",
    "        accum += count\n",
    "        print(\"  \", f, \"-->\", count, \"(%.2f)\" % (count / total))\n",
    "    assert accum == total"
   ],
   "metadata": {
    "collapsed": false,
    "pycharm": {
     "name": "#%%\n"
    }
   }
  },
  {
   "cell_type": "code",
   "execution_count": 28,
   "outputs": [
    {
     "name": "stdout",
     "output_type": "stream",
     "text": [
      "using throw number: 44270\n",
      "games --> Noor Raheel Al Ukaily\n",
      "chess --> Isabel Delacruz\n",
      "bowls --> Dimple Doshi Bhakri\n",
      "susan --> Lam Quoc Truong\n",
      "candles-hanging --> Karishma Raval\n",
      "candles-butterfly --> David Eckes\n",
      "candles-etc --> Dêv Brâhmbhætt\n"
     ]
    }
   ],
   "source": [
    "#throw_num = random.randint(0, throws-1)\n",
    "throw_num = 44270\n",
    "print(\"using throw number:\", throw_num)\n",
    "for item, chs in choices.items():\n",
    "    if len(chs) < 1:\n",
    "        continue\n",
    "    print(item, \"-->\", NAMES[chs[throw_num]])"
   ],
   "metadata": {
    "collapsed": false,
    "pycharm": {
     "name": "#%%\n"
    }
   }
  }
 ],
 "metadata": {
  "kernelspec": {
   "display_name": "Python 3",
   "language": "python",
   "name": "python3"
  },
  "language_info": {
   "codemirror_mode": {
    "name": "ipython",
    "version": 2
   },
   "file_extension": ".py",
   "mimetype": "text/x-python",
   "name": "python",
   "nbconvert_exporter": "python",
   "pygments_lexer": "ipython2",
   "version": "2.7.6"
  }
 },
 "nbformat": 4,
 "nbformat_minor": 0
}