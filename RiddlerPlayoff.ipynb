{
 "cells": [
  {
   "cell_type": "markdown",
   "source": [
    "## Solution for [12/9/22 \"Riddler Classic\"](https://fivethirtyeight.com/features/can-you-win-the-riddler-football-playoff/)\n",
    "\n",
    "\n",
    ">The Riddler Football Playoff (RFP) consists of four teams. Each team is assigned a random real number between 0 and 1, representing the “quality” of the team. If team A has quality a and team B has quality b, then the probability that team A will defeat team B in a game is $a/(a+b)$.\n",
    ">\n",
    ">In the semifinal games of the playoff, the team with the highest quality (the “1 seed”) plays the team with the lowest quality (the “4 seed”), while the other two teams play each other as well. The two teams that win their respective semifinal games then play each other in the final.\n",
    ">\n",
    ">On average, what is the quality of the RFP champion?\n",
    "\n",
    "I *think* this problem should be solvable using geometric arguments:\n",
    "* The set of numbers $0 \\leq d < c < b < a \\leq 1$ defines a shape in the unit hypercube.\n",
    "* Do something like integrating the area between its projection onto the $(a, d)$ and $(b, c)$ spaces and the curve $a/(a+d)$ and $b/(b+c)$\n",
    "* Repeat somehow to get to the intersection of the two?\n",
    "\n",
    "But, I couldn't see all the way through that approach.  Anyways, it's easy to do programattically..."
   ],
   "metadata": {
    "collapsed": false
   }
  },
  {
   "cell_type": "code",
   "execution_count": null,
   "outputs": [],
   "source": [
    "import numpy as np\n",
    "\n",
    "N = int(1e8)  # samples of this size take a few minutes to run on my laptop, but make the ultimate plots pretty\n",
    "\n",
    "# probably could do this with a 2D call to uniform() from the start, but whatever\n",
    "a, b, c, d = [ np.random.uniform(size=N) for i in range(4) ]\n",
    "cols = np.column_stack([a, b, c, d])\n",
    "d, c, b, a = np.moveaxis(np.take_along_axis(cols, np.argsort(cols, axis=1), axis=1), 1, 0)  # make sure a, b, c, d are always ranked in order\n",
    "\n",
    "# do the semifinals\n",
    "a_prob = a / (a + d)\n",
    "b_prob = b / (b + c)\n",
    "mask = np.random.uniform(size=N)\n",
    "semi1 = (mask < a_prob) * a + (mask > a_prob) * d   # this is the quality of the winner of semifinal 1\n",
    "semi2 = (mask < b_prob) * b + (mask > b_prob) * c   # and similarly for semifinal 2\n",
    "\n",
    "# now do the finals \n",
    "mask =  np.random.uniform(size=N)\n",
    "semi1_prob = semi1 / (semi1 + semi2)\n",
    "final = (mask < semi1_prob) * semi1 + (mask > semi1_prob) * semi2   # this is the quality of the victor in the finals\n",
    "\n",
    "print(\"Average quality of victor =\", np.mean(final))"
   ],
   "metadata": {
    "collapsed": false
   }
  },
  {
   "cell_type": "markdown",
   "source": [
    "## Demonstration plots\n",
    "\n",
    "Everything that follows is just to make some nice plots to show that the results look sensible.\n",
    "\n",
    "This first cell is just to centralize the plotting tools"
   ],
   "metadata": {
    "collapsed": false
   }
  },
  {
   "cell_type": "code",
   "execution_count": null,
   "outputs": [],
   "source": [
    "# shared plotting tools.\n",
    "# actual plots in following cells\n",
    "\n",
    "import matplotlib\n",
    "matplotlib.rcParams[\"font.size\"] = 15\n",
    "matplotlib.rc(\"text\", usetex=False)\n",
    "\n",
    "from matplotlib import pyplot as plt\n",
    "\n",
    "FIG_CONFIG = {\n",
    "    \"figsize\": (10, 8),\n",
    "    \"facecolor\": \"white\",\n",
    "}\n",
    "\n",
    "HIST_CONFIG = {\n",
    "    \"bins\": 500,\n",
    "    \"range\": (0, 1),\n",
    "    \"alpha\": 0.4,\n",
    "    \"density\": True,\n",
    "    \"histtype\": \"stepfilled\",\n",
    "    \"linewidth\": 1,\n",
    "}\n",
    "\n",
    "# borrowed from https://stackoverflow.com/q/37765197\n",
    "def adjust_lightness(color, amount=0.5):\n",
    "    import matplotlib.colors as mc\n",
    "    import colorsys\n",
    "    try:\n",
    "        c = mc.cnames[color]\n",
    "    except:\n",
    "        c = color\n",
    "    c = colorsys.rgb_to_hls(*mc.to_rgb(c))\n",
    "    return colorsys.hls_to_rgb(c[0], max(0, min(1, amount * c[1])), c[2])\n",
    "\n",
    "def plot_distributions(dists, fig_config={}, hist_config={}):\n",
    "    fig, ax = plt.subplots(1, **fig_config)\n",
    "\n",
    "    mean_points = {}\n",
    "    colors = {}\n",
    "    for name, quals in dists:\n",
    "        # this plots the histograms...\n",
    "\n",
    "        mean = np.mean(quals)\n",
    "        freqs, bins, patches = ax.hist(quals, label=name, **hist_config)\n",
    "\n",
    "        # the remainder is all just to put a slightly darker vertical line at the mean value\n",
    "        diffs = np.abs(bins - mean)\n",
    "        closest_xbin = np.argmin(diffs)\n",
    "        next_closest_xbin = closest_xbin + 1\n",
    "        if closest_xbin > 0 and (next_closest_xbin > len(bins) - 1 or diffs[closest_xbin - 1] < diffs[next_closest_xbin]):\n",
    "            next_closest_xbin = closest_xbin - 1\n",
    "        first, second = sorted([closest_xbin, next_closest_xbin])\n",
    "        colors[name] = adjust_lightness(patches[0].get_facecolor(), 0.85)\n",
    "        ax.fill_between(x=(bins[first], bins[second]), y1=0, y2=freqs[second], step=\"post\", color=colors[name])\n",
    "        mean_points[name] = (mean, freqs[second])\n",
    "\n",
    "    ax.set_xlabel(\"Quality\")\n",
    "    ax.set_ylabel(\"Probability density\")\n",
    "\n",
    "    return fig, mean_points, colors\n",
    "\n",
    "def draw_annotations(means, offsets, colors={}):\n",
    "    for team, mean in means.items():\n",
    "        arrow_rad = \"\"\n",
    "        adj = offsets[team]\n",
    "        if adj[0] != 0:\n",
    "            arrow_rad = \",rad=\" + (\"-\" if adj[0] < 0 else \"\") + \"0.2\"\n",
    "        args = dict(text=\" \".join([r\"$\\bf{{{0}}}$\".format(s) for s in team.split()]) + \"\\nmean={:.2f}\".format(mean[0]), ha=\"center\",\n",
    "                     xy=mean, xycoords=\"data\",\n",
    "                     xytext=np.array(mean) + np.array(adj), textcoords=\"data\",\n",
    "                     arrowprops=dict(arrowstyle=\"-|>\",\n",
    "                                     connectionstyle=\"arc3\" + arrow_rad,\n",
    "                                     shrinkB=5,\n",
    "                                     fc=\"w\"))\n",
    "        if team in colors:\n",
    "            args[\"color\"] = colors[team]\n",
    "            args[\"arrowprops\"][\"color\"] = colors[team]\n",
    "        plt.annotate(**args)\n"
   ],
   "metadata": {
    "collapsed": false
   }
  },
  {
   "cell_type": "markdown",
   "source": [
    "### \"Quality\" distributions for the four teams"
   ],
   "metadata": {
    "collapsed": false
   }
  },
  {
   "cell_type": "code",
   "execution_count": null,
   "outputs": [],
   "source": [
    "# Plot showing the input \"quality\" distributions\n",
    "\n",
    "fig, mean_points, colors = plot_distributions([(\"a (strongest)\", a), (\"b\", b), (\"c\", c), (\"d (weakest)\", d)],\n",
    "                                              fig_config=FIG_CONFIG,\n",
    "                                              hist_config=HIST_CONFIG)\n",
    "\n",
    "# we need to do these annotations manually anyway\n",
    "# (too hard to do programmatically)\n",
    "adjust = {\"a (strongest)\": (-0.1, +1.25),\n",
    "          \"b\": (0, +0.75),\n",
    "          \"c\": (0, +0.5),\n",
    "          \"d (weakest)\": (0.1, +0.75)}\n",
    "draw_annotations(mean_points, adjust, colors)\n",
    "\n",
    "\n",
    "plt.show()"
   ],
   "metadata": {
    "collapsed": false
   }
  },
  {
   "cell_type": "markdown",
   "source": [
    "### \"Quality\" distributions for the semifinal winners & ultimate champion"
   ],
   "metadata": {
    "collapsed": false
   }
  },
  {
   "cell_type": "code",
   "execution_count": null,
   "outputs": [],
   "source": [
    "# Plot showing the \"quality\" distributions of the semifinal winners & ultimate champion\n",
    "\n",
    "fig, mean_points, colors = plot_distributions( [(\"Semifinal 1 victor\", semi1), (\"Semifinal 2 victor\", semi2), (\"Champion\", final)],\n",
    "                                               fig_config=FIG_CONFIG,\n",
    "                                               hist_config=HIST_CONFIG)\n",
    "\n",
    "adjust = {\"Semifinal 1 victor\": (-0.05, 1.5),\n",
    "          \"Semifinal 2 victor\": (-0.25, +0.25),\n",
    "          \"Champion\": (-0.1, +0.75)}\n",
    "draw_annotations(mean_points, adjust, colors)\n",
    "plt.show()"
   ],
   "metadata": {
    "collapsed": false
   }
  }
 ],
 "metadata": {
  "kernelspec": {
   "display_name": "Python 3",
   "language": "python",
   "name": "python3"
  },
  "language_info": {
   "codemirror_mode": {
    "name": "ipython",
    "version": 2
   },
   "file_extension": ".py",
   "mimetype": "text/x-python",
   "name": "python",
   "nbconvert_exporter": "python",
   "pygments_lexer": "ipython2",
   "version": "2.7.6"
  }
 },
 "nbformat": 4,
 "nbformat_minor": 0
}
